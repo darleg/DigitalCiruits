{
 "cells": [
  {
   "cell_type": "code",
   "execution_count": 5,
   "id": "8cf5180f",
   "metadata": {},
   "outputs": [],
   "source": [
    "open System"
   ]
  },
  {
   "attachments": {
    "image.png": {
     "image/png": "[encoded data removed]"
    }
   },
   "cell_type": "markdown",
   "id": "d4d6ad08",
   "metadata": {},
   "source": [
    "![image.png](attachment:image.png)"
   ]
  },
  {
   "cell_type": "code",
   "execution_count": 1,
   "id": "a334b6b8",
   "metadata": {},
   "outputs": [
    {
     "data": {
      "text/html": [
       "\r\n",
       "<div>\r\n",
       "    <div id='dotnet-interactive-this-cell-66752.Microsoft.DotNet.Interactive.Http.HttpPort' style='display: none'>\r\n",
       "        The below script needs to be able to find the current output cell; this is an easy method to get it.\r\n",
       "    </div>\r\n",
       "    <script type='text/javascript'>\r\n",
       "async function probeAddresses(probingAddresses) {\r\n",
       "    function timeout(ms, promise) {\r\n",
       "        return new Promise(function (resolve, reject) {\r\n",
       "            setTimeout(function () {\r\n",
       "                reject(new Error('timeout'))\r\n",
       "            }, ms)\r\n",
       "            promise.then(resolve, reject)\r\n",
       "        })\r\n",
       "    }\r\n",
       "\r\n",
       "    if (Array.isArray(probingAddresses)) {\r\n",
       "        for (let i = 0; i < probingAddresses.length; i++) {\r\n",
       "\r\n",
       "            let rootUrl = probingAddresses[i];\r\n",
       "\r\n",
       "            if (!rootUrl.endsWith('/')) {\r\n",
       "                rootUrl = `${rootUrl}/`;\r\n",
       "            }\r\n",
       "\r\n",
       "            try {\r\n",
       "                let response = await timeout(1000, fetch(`${rootUrl}discovery`, {\r\n",
       "                    method: 'POST',\r\n",
       "                    cache: 'no-cache',\r\n",
       "                    mode: 'cors',\r\n",
       "                    timeout: 1000,\r\n",
       "                    headers: {\r\n",
       "                        'Content-Type': 'text/plain'\r\n",
       "                    },\r\n",
       "                    body: probingAddresses[i]\r\n",
       "                }));\r\n",
       "\r\n",
       "                if (response.status == 200) {\r\n",
       "                    return rootUrl;\r\n",
       "                }\r\n",
       "            }\r\n",
       "            catch (e) { }\r\n",
       "        }\r\n",
       "    }\r\n",
       "}\r\n",
       "\r\n",
       "function loadDotnetInteractiveApi() {\r\n",
       "    probeAddresses([\"http://192.168.1.18:2049/\", \"http://127.0.0.1:2049/\"])\r\n",
       "        .then((root) => {\r\n",
       "        // use probing to find host url and api resources\r\n",
       "        // load interactive helpers and language services\r\n",
       "        let dotnetInteractiveRequire = require.config({\r\n",
       "        context: '66752.Microsoft.DotNet.Interactive.Http.HttpPort',\r\n",
       "                paths:\r\n",
       "            {\r\n",
       "                'dotnet-interactive': `${root}resources`\r\n",
       "                }\r\n",
       "        }) || require;\r\n",
       "\r\n",
       "            window.dotnetInteractiveRequire = dotnetInteractiveRequire;\r\n",
       "\r\n",
       "            window.configureRequireFromExtension = function(extensionName, extensionCacheBuster) {\r\n",
       "                let paths = {};\r\n",
       "                paths[extensionName] = `${root}extensions/${extensionName}/resources/`;\r\n",
       "                \r\n",
       "                let internalRequire = require.config({\r\n",
       "                    context: extensionCacheBuster,\r\n",
       "                    paths: paths,\r\n",
       "                    urlArgs: `cacheBuster=${extensionCacheBuster}`\r\n",
       "                    }) || require;\r\n",
       "\r\n",
       "                return internalRequire\r\n",
       "            };\r\n",
       "        \r\n",
       "            dotnetInteractiveRequire([\r\n",
       "                    'dotnet-interactive/dotnet-interactive'\r\n",
       "                ],\r\n",
       "                function (dotnet) {\r\n",
       "                    dotnet.init(window);\r\n",
       "                },\r\n",
       "                function (error) {\r\n",
       "                    console.log(error);\r\n",
       "                }\r\n",
       "            );\r\n",
       "        })\r\n",
       "        .catch(error => {console.log(error);});\r\n",
       "    }\r\n",
       "\r\n",
       "// ensure `require` is available globally\r\n",
       "if ((typeof(require) !==  typeof(Function)) || (typeof(require.config) !== typeof(Function))) {\r\n",
       "    let require_script = document.createElement('script');\r\n",
       "    require_script.setAttribute('src', 'https://cdnjs.cloudflare.com/ajax/libs/require.js/2.3.6/require.min.js');\r\n",
       "    require_script.setAttribute('type', 'text/javascript');\r\n",
       "    \r\n",
       "    \r\n",
       "    require_script.onload = function() {\r\n",
       "        loadDotnetInteractiveApi();\r\n",
       "    };\r\n",
       "\r\n",
       "    document.getElementsByTagName('head')[0].appendChild(require_script);\r\n",
       "}\r\n",
       "else {\r\n",
       "    loadDotnetInteractiveApi();\r\n",
       "}\r\n",
       "\r\n",
       "    </script>\r\n",
       "</div>"
      ]
     },
     "metadata": {},
     "output_type": "display_data"
    }
   ],
   "source": [
    "let NOT a = not a\n",
    "let AND a b = a && b\n",
    "let OR a b = a || b\n",
    "let XOR a b = a <> b\n",
    "let NAND a b = AND a b |> NOT\n",
    "let NOR a b = OR a b |> NOT\n",
    "let NXOR a b = XOR a b |> NOT"
   ]
  },
  {
   "cell_type": "code",
   "execution_count": 2,
   "id": "6c94269a",
   "metadata": {},
   "outputs": [
    {
     "name": "stdout",
     "output_type": "stream",
     "text": [
      "NOT Truth Table \n",
      "    A       Y \n",
      "   true false\n",
      "   false true\n",
      "\n"
     ]
    }
   ],
   "source": [
    "let a = true\n",
    "let b = true\n",
    "\n",
    "printf \"NOT Truth Table \\n\"\n",
    "printf  \"    A       Y \\n\"\n",
    "printfn \"   true %b\" (NOT true)\n",
    "printfn \"   false %b\\n\" (NOT false)"
   ]
  },
  {
   "cell_type": "code",
   "execution_count": 3,
   "id": "b9755712",
   "metadata": {},
   "outputs": [
    {
     "name": "stdout",
     "output_type": "stream",
     "text": [
      "AND Truth Table \n",
      "    A   B       Y  \n",
      " false false  false\n",
      " false true   false\n",
      " true  false  false\n",
      " true  true   true\n",
      "\n"
     ]
    }
   ],
   "source": [
    "printf \"AND Truth Table \\n\"\n",
    "printf  \"    A   B       Y  \\n\"\n",
    "printfn \" false false  %b\"   (AND false false)\n",
    "printfn \" false true   %b\"   (AND false true)\n",
    "printfn \" true  false  %b\"   (AND true false)\n",
    "printfn \" true  true   %b\\n\" (AND true true)"
   ]
  },
  {
   "cell_type": "code",
   "execution_count": 4,
   "id": "056ada76",
   "metadata": {},
   "outputs": [
    {
     "name": "stdout",
     "output_type": "stream",
     "text": [
      "OR truth Table \n",
      "    A   B       Y  \n",
      " false false  false\n",
      " false true   true\n",
      " true  false  true\n",
      " true  true   true\n",
      "\n"
     ]
    }
   ],
   "source": [
    "printf \"OR truth Table \\n\"\n",
    "printf  \"    A   B       Y  \\n\"\n",
    "printfn \" false false  %b\"   (OR false false)\n",
    "printfn \" false true   %b\"   (OR false true)\n",
    "printfn \" true  false  %b\"   (OR true false)\n",
    "printfn \" true  true   %b\\n\" (OR true true)"
   ]
  },
  {
   "cell_type": "code",
   "execution_count": 10,
   "id": "cead72e2",
   "metadata": {},
   "outputs": [
    {
     "name": "stdout",
     "output_type": "stream",
     "text": [
      "XOR truth Table \n",
      "    A   B       Y  \n",
      " false false  false\n",
      " false true   true\n",
      " true  false  true\n",
      " true  true   false\n",
      "\n"
     ]
    }
   ],
   "source": [
    "printf \"XOR truth Table \\n\"\n",
    "printf  \"    A   B       Y  \\n\"\n",
    "printfn \" false false  %b\"   (XOR false false)\n",
    "printfn \" false true   %b\"   (XOR false true)\n",
    "printfn \" true  false  %b\"   (XOR true false)\n",
    "printfn \" true  true   %b\\n\" (XOR true true)"
   ]
  },
  {
   "cell_type": "code",
   "execution_count": 11,
   "id": "4dd71dae",
   "metadata": {},
   "outputs": [
    {
     "name": "stdout",
     "output_type": "stream",
     "text": [
      "NAND truth Table \n",
      "    A   B       Y  \n",
      " false false  true\n",
      " false true   true\n",
      " true  false  true\n",
      " true  true   false\n",
      "\n"
     ]
    }
   ],
   "source": [
    "printf \"NAND truth Table \\n\"\n",
    "printf  \"    A   B       Y  \\n\"\n",
    "printfn \" false false  %b\"   (NAND false false)\n",
    "printfn \" false true   %b\"   (NAND false true)\n",
    "printfn \" true  false  %b\"   (NAND true false)\n",
    "printfn \" true  true   %b\\n\" (NAND true true)"
   ]
  },
  {
   "cell_type": "code",
   "execution_count": 12,
   "id": "59d67b7d",
   "metadata": {},
   "outputs": [
    {
     "name": "stdout",
     "output_type": "stream",
     "text": [
      "NOR truth Table \n",
      "    A   B       Y  \n",
      " false false  true\n",
      " false true   false\n",
      " true  false  false\n",
      " true  true   false\n",
      "\n"
     ]
    }
   ],
   "source": [
    "printf \"NOR truth Table \\n\"\n",
    "printf  \"    A   B       Y  \\n\"\n",
    "printfn \" false false  %b\"   (NOR false false)\n",
    "printfn \" false true   %b\"   (NOR false true)\n",
    "printfn \" true  false  %b\"   (NOR true false)\n",
    "printfn \" true  true   %b\\n\" (NOR true true)"
   ]
  },
  {
   "cell_type": "code",
   "execution_count": 17,
   "id": "e5d0dfdb",
   "metadata": {},
   "outputs": [
    {
     "name": "stdout",
     "output_type": "stream",
     "text": [
      "NXOR truth Table \n",
      "    A   B       Y  \n",
      " false false  true\n",
      " false true   false\n",
      " true  false  false\n",
      " true  true   true\n",
      "\n"
     ]
    }
   ],
   "source": [
    "printf \"NXOR truth Table \\n\"\n",
    "printf  \"    A   B       Y  \\n\"\n",
    "printfn \" false false  %b\"   (NXOR false false)\n",
    "printfn \" false true   %b\"   (NXOR false true)\n",
    "printfn \" true  false  %b\"   (NXOR true false)\n",
    "printfn \" true  true   %b\\n\" (NXOR true true)"
   ]
  },
  {
   "cell_type": "code",
   "execution_count": null,
   "id": "3fed6897",
   "metadata": {},
   "outputs": [],
   "source": []
  }
 ],
 "metadata": {
  "kernelspec": {
   "display_name": ".NET (F#)",
   "language": "F#",
   "name": ".net-fsharp"
  },
  "language_info": {
   "file_extension": ".fs",
   "mimetype": "text/x-fsharp",
   "name": "F#",
   "pygments_lexer": "fsharp",
   "version": "7.0"
  }
 },
 "nbformat": 4,
 "nbformat_minor": 5
}
