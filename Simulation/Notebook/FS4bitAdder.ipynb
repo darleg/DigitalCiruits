{
 "cells": [
  {
   "cell_type": "code",
   "execution_count": 1,
   "id": "017e7393",
   "metadata": {},
   "outputs": [
    {
     "data": {
      "text/html": [
       "\r\n",
       "<div>\r\n",
       "    <div id='dotnet-interactive-this-cell-42300.Microsoft.DotNet.Interactive.Http.HttpPort' style='display: none'>\r\n",
       "        The below script needs to be able to find the current output cell; this is an easy method to get it.\r\n",
       "    </div>\r\n",
       "    <script type='text/javascript'>\r\n",
       "async function probeAddresses(probingAddresses) {\r\n",
       "    function timeout(ms, promise) {\r\n",
       "        return new Promise(function (resolve, reject) {\r\n",
       "            setTimeout(function () {\r\n",
       "                reject(new Error('timeout'))\r\n",
       "            }, ms)\r\n",
       "            promise.then(resolve, reject)\r\n",
       "        })\r\n",
       "    }\r\n",
       "\r\n",
       "    if (Array.isArray(probingAddresses)) {\r\n",
       "        for (let i = 0; i < probingAddresses.length; i++) {\r\n",
       "\r\n",
       "            let rootUrl = probingAddresses[i];\r\n",
       "\r\n",
       "            if (!rootUrl.endsWith('/')) {\r\n",
       "                rootUrl = `${rootUrl}/`;\r\n",
       "            }\r\n",
       "\r\n",
       "            try {\r\n",
       "                let response = await timeout(1000, fetch(`${rootUrl}discovery`, {\r\n",
       "                    method: 'POST',\r\n",
       "                    cache: 'no-cache',\r\n",
       "                    mode: 'cors',\r\n",
       "                    timeout: 1000,\r\n",
       "                    headers: {\r\n",
       "                        'Content-Type': 'text/plain'\r\n",
       "                    },\r\n",
       "                    body: probingAddresses[i]\r\n",
       "                }));\r\n",
       "\r\n",
       "                if (response.status == 200) {\r\n",
       "                    return rootUrl;\r\n",
       "                }\r\n",
       "            }\r\n",
       "            catch (e) { }\r\n",
       "        }\r\n",
       "    }\r\n",
       "}\r\n",
       "\r\n",
       "function loadDotnetInteractiveApi() {\r\n",
       "    probeAddresses([\"http://192.168.1.18:2048/\", \"http://127.0.0.1:2048/\"])\r\n",
       "        .then((root) => {\r\n",
       "        // use probing to find host url and api resources\r\n",
       "        // load interactive helpers and language services\r\n",
       "        let dotnetInteractiveRequire = require.config({\r\n",
       "        context: '42300.Microsoft.DotNet.Interactive.Http.HttpPort',\r\n",
       "                paths:\r\n",
       "            {\r\n",
       "                'dotnet-interactive': `${root}resources`\r\n",
       "                }\r\n",
       "        }) || require;\r\n",
       "\r\n",
       "            window.dotnetInteractiveRequire = dotnetInteractiveRequire;\r\n",
       "\r\n",
       "            window.configureRequireFromExtension = function(extensionName, extensionCacheBuster) {\r\n",
       "                let paths = {};\r\n",
       "                paths[extensionName] = `${root}extensions/${extensionName}/resources/`;\r\n",
       "                \r\n",
       "                let internalRequire = require.config({\r\n",
       "                    context: extensionCacheBuster,\r\n",
       "                    paths: paths,\r\n",
       "                    urlArgs: `cacheBuster=${extensionCacheBuster}`\r\n",
       "                    }) || require;\r\n",
       "\r\n",
       "                return internalRequire\r\n",
       "            };\r\n",
       "        \r\n",
       "            dotnetInteractiveRequire([\r\n",
       "                    'dotnet-interactive/dotnet-interactive'\r\n",
       "                ],\r\n",
       "                function (dotnet) {\r\n",
       "                    dotnet.init(window);\r\n",
       "                },\r\n",
       "                function (error) {\r\n",
       "                    console.log(error);\r\n",
       "                }\r\n",
       "            );\r\n",
       "        })\r\n",
       "        .catch(error => {console.log(error);});\r\n",
       "    }\r\n",
       "\r\n",
       "// ensure `require` is available globally\r\n",
       "if ((typeof(require) !==  typeof(Function)) || (typeof(require.config) !== typeof(Function))) {\r\n",
       "    let require_script = document.createElement('script');\r\n",
       "    require_script.setAttribute('src', 'https://cdnjs.cloudflare.com/ajax/libs/require.js/2.3.6/require.min.js');\r\n",
       "    require_script.setAttribute('type', 'text/javascript');\r\n",
       "    \r\n",
       "    \r\n",
       "    require_script.onload = function() {\r\n",
       "        loadDotnetInteractiveApi();\r\n",
       "    };\r\n",
       "\r\n",
       "    document.getElementsByTagName('head')[0].appendChild(require_script);\r\n",
       "}\r\n",
       "else {\r\n",
       "    loadDotnetInteractiveApi();\r\n",
       "}\r\n",
       "\r\n",
       "    </script>\r\n",
       "</div>"
      ]
     },
     "metadata": {},
     "output_type": "display_data"
    }
   ],
   "source": [
    "open System"
   ]
  },
  {
   "cell_type": "code",
   "execution_count": 2,
   "id": "2627d283",
   "metadata": {},
   "outputs": [],
   "source": [
    "let NOT a = not a\n",
    "let AND a b = a && b\n",
    "let OR a b = a || b\n",
    "let XOR a b = a <> b\n",
    "let NAND a b = AND a b |> NOT\n",
    "let NOR a b = OR a b |> NOT\n",
    "let NXOR a b = XOR a b |> NOT"
   ]
  },
  {
   "cell_type": "code",
   "execution_count": 3,
   "id": "b3802dca",
   "metadata": {},
   "outputs": [],
   "source": [
    "//Half Adder\n",
    "let HA a b =\n",
    "    let s = XOR a b // one xor gate\n",
    "    let c = AND a b // one and gate\n",
    "    (s, c)          // retrims sum and carry"
   ]
  },
  {
   "cell_type": "code",
   "execution_count": 4,
   "id": "05ca65dc",
   "metadata": {},
   "outputs": [],
   "source": [
    "//Full Adder\n",
    "let FA a b cin = \n",
    "    let (s1, c1) = HA a b     // first half adder\n",
    "    let (sum, c2) = HA s1 cin // second half adder\n",
    "    let cout = OR c1 c2       // or gate for the 2 carry out\n",
    "    (sum, cout)"
   ]
  },
  {
   "cell_type": "code",
   "execution_count": 5,
   "id": "05d883b0",
   "metadata": {},
   "outputs": [
    {
     "name": "stdout",
     "output_type": "stream",
     "text": [
      "Areg is [|true; false; false; false|]\n",
      "Breg is [|false; true; false; false|]\n"
     ]
    }
   ],
   "source": [
    "let Areg : bool array = [| true; false; false; false |]\n",
    "let Breg : bool array = [| false; true; false; false |]\n",
    "\n",
    "printfn(\"Areg is %A\")Areg\n",
    "printfn(\"Breg is %A\")Breg"
   ]
  },
  {
   "cell_type": "code",
   "execution_count": 6,
   "id": "915dc7d5",
   "metadata": {},
   "outputs": [
    {
     "name": "stdout",
     "output_type": "stream",
     "text": [
      "Sum  is [|true; true; false; false|]\n"
     ]
    }
   ],
   "source": [
    "let Cin : bool array = Array.create 4 false\n",
    "let Cout : bool array = Array.create 4 false\n",
    "\n",
    "let (Sreg3, Cout3) = FA Areg.[3] Breg.[3] Cin.[3]\n",
    "let Cin2 = Cout3\n",
    "let (Sreg2, Cout2) = FA Areg.[2] Breg.[2] Cin.[2]\n",
    "let Cin1 = Cout2\n",
    "let (Sreg1, Cout1) = FA Areg.[1] Breg.[1] Cin.[1]\n",
    "let Cin0 = Cout1\n",
    "let (Sreg0, Cout0) = FA Areg.[0] Breg.[0] Cin.[0]\n",
    "\n",
    "let Sreg : bool array = [| Sreg0; Sreg1; Sreg2; Sreg3 |]\n",
    "    \n",
    "printfn(\"Sum  is %A\")Sreg"
   ]
  },
  {
   "cell_type": "code",
   "execution_count": null,
   "id": "f9a1dd6c",
   "metadata": {},
   "outputs": [],
   "source": []
  }
 ],
 "metadata": {
  "kernelspec": {
   "display_name": ".NET (F#)",
   "language": "F#",
   "name": ".net-fsharp"
  },
  "language_info": {
   "file_extension": ".fs",
   "mimetype": "text/x-fsharp",
   "name": "F#",
   "pygments_lexer": "fsharp",
   "version": "7.0"
  }
 },
 "nbformat": 4,
 "nbformat_minor": 5
}
